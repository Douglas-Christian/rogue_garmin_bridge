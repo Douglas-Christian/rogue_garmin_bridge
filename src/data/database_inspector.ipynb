{
 "cells": [
  {
   "cell_type": "markdown",
   "metadata": {},
   "source": [
    "# Rogue Garmin Bridge - Database Inspector\n",
    "\n",
    "This notebook provides tools to inspect and analyze the SQLite database used by the Rogue Garmin Bridge application. It allows you to:\n",
    "\n",
    "1. Check workout records in the database\n",
    "2. Examine workout data points\n",
    "3. Verify that simulator data is being properly stored\n",
    "4. Analyze workout metrics\n",
    "\n",
    "Created: April 27, 2025"
   ]
  }
 ],
 "metadata": {
  "language_info": {
   "name": "python"
  }
 },
 "nbformat": 4,
 "nbformat_minor": 5
}
